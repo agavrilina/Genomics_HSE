{
 "cells": [
  {
   "cell_type": "markdown",
   "metadata": {},
   "source": [
    "# Alexandra Gavrilina\n",
    "\n",
    "# HOMEWORK 2: COALESCENT WITH MUTATION"
   ]
  },
  {
   "cell_type": "code",
   "execution_count": 1,
   "metadata": {},
   "outputs": [],
   "source": [
    "import numpy as np\n",
    "import matplotlib.pyplot as plt\n",
    "%matplotlib inline\n",
    "import random\n",
    "import math\n",
    "import statistics\n",
    "import scipy\n",
    "from scipy import special"
   ]
  },
  {
   "cell_type": "markdown",
   "metadata": {},
   "source": [
    "## 1. Basics\n",
    "\n",
    "Chromosome is an interval $[0, 1]$.\n",
    "\n",
    "Individual (or individual’s genome) is a set of $M$ chromosomes, numbered from $0$ to $M − 1$.\n",
    "\n",
    "Chromosomes with the same id (from different individuals) are related by a single tree genealogy (no recombination).\n",
    "\n",
    "Genealogies for chromosomes with different ids are simulated independently from each other."
   ]
  },
  {
   "cell_type": "markdown",
   "metadata": {},
   "source": [
    "## 2. Coalescence with mutation\n",
    "Let there be $K$ lineages. Mutation rate is $\\mu$, effective population size over time is $ν(t)$. Assume that $ν(t)$ is piecewise constant function.\n",
    "\n",
    "Coalescence with mutation is a Poisson process with the (variable) rate\n",
    "\n",
    "$$\\omega(K, t) = K \\mu + \\dfrac{1}{v(t)} \\begin{pmatrix} K \\\\ 2 \\end{pmatrix}.$$\n",
    "\n",
    "Simulation scheme.\n",
    "\n",
    "(1) Set $t = 0$, initialise $K$.\n",
    "\n",
    "(2) Sample time $T$ till the next event from Poisson process with the rate $\\omega (K, t)$. Set $t = t + T$.\n",
    "\n",
    "(3) Generate type of the event following Bernoulli distribution with weights proportional to Kµ (mutation) and $\\dfrac{1}{v(t)} \\begin{pmatrix} K \\\\ 2 \\end{pmatrix}$ (coalescence).\n",
    "\n",
    "* Mutation: sample ancestral lineages $l$ where mutation occurs independently from $K$ available lineages. Sample mutation position $p$ on a genome uniformly on $[0, 1]$. All individuals which are decedents of $l$ get variant $1$ at position $p$. All other individuals have variant $0$ at position $p$.\n",
    "\n",
    "* Coalescence. Choose uniformly a random pair of lineages $l_1$ and $l_2$. These two lineages coalesce at time $t$. Update genealogy. Set $K = K − 1$.\n",
    "\n",
    "(4) stop if $K = 1$. Otherwise go to step 2."
   ]
  },
  {
   "cell_type": "code",
   "execution_count": 2,
   "metadata": {},
   "outputs": [],
   "source": [
    "M = 1 # для начала\n",
    "K = 2 # для начала\n",
    "mu = 0 # для первой версии - без мутации"
   ]
  },
  {
   "cell_type": "code",
   "execution_count": 3,
   "metadata": {},
   "outputs": [],
   "source": [
    "def v(t): # piecewise constant function\n",
    "    return 0*t + 1"
   ]
  },
  {
   "cell_type": "code",
   "execution_count": 4,
   "metadata": {},
   "outputs": [],
   "source": [
    "'''\n",
    "Rate\n",
    "Input: ...\n",
    "Output: w(K, mu)\n",
    "'''\n",
    "def rate(K, mu, v):\n",
    "    return K*mu + (1/v)*scipy.special.binom(K, 2)"
   ]
  },
  {
   "cell_type": "code",
   "execution_count": 5,
   "metadata": {},
   "outputs": [],
   "source": [
    "def v_t(t):\n",
    "    return np.piecewise(t, (t < 100, t >= 100), (1, 2))"
   ]
  },
  {
   "cell_type": "markdown",
   "metadata": {},
   "source": [
    "https://docs.scipy.org/doc/scipy/reference/generated/scipy.special.binom.html#scipy.special.binom"
   ]
  },
  {
   "cell_type": "markdown",
   "metadata": {},
   "source": [
    "Coalescence. Choose uniformly a random pair of lineages $l_1$ and $l_2$. These two lineages coalesce at time $t$. Update genealogy. Set $K = K − 1$."
   ]
  },
  {
   "cell_type": "code",
   "execution_count": 6,
   "metadata": {},
   "outputs": [],
   "source": [
    "M = 100000 # number of chromosomes\n",
    "k = 10 # number of ind\n",
    "mu = 5\n",
    "t = 0\n",
    "coal = (1/v_t(t)) * scipy.special.binom(k, 2)"
   ]
  },
  {
   "cell_type": "code",
   "execution_count": 9,
   "metadata": {},
   "outputs": [
    {
     "name": "stdout",
     "output_type": "stream",
     "text": [
      "Number of coal.:  0\n",
      "coalescent between i and j at the moment t:\n",
      "[[3.         2.         0.0148212 ]\n",
      " [5.         7.         0.02928279]\n",
      " [2.         1.         0.03413966]\n",
      " [4.         3.         0.0435805 ]\n",
      " [0.         2.         0.07024701]\n",
      " [0.         1.         0.15226556]]\n",
      "\n",
      "\n",
      "Number of mut.:  0\n",
      "mutation in the individue i in the place p at the moment t:\n",
      "[[0.         0.42888905 0.03164877]\n",
      " [4.         0.01483245 0.0318236 ]\n",
      " [1.         0.81332125 0.11878317]]\n"
     ]
    },
    {
     "data": {
      "text/plain": [
       "<Figure size 360x576 with 0 Axes>"
      ]
     },
     "metadata": {},
     "output_type": "display_data"
    }
   ],
   "source": [
    "random.seed(10)\n",
    "T = []\n",
    "mut = []\n",
    "nm = 0 # number of mut\n",
    "nc = 0 # number of coal\n",
    "w = rate(mu, k, v_t(t))\n",
    "t = 0\n",
    "plt.figure(figsize=(5,8)) #\n",
    "#plt.axis('equal')\n",
    "while k > 1:\n",
    "    t += np.random.exponential(1 / w) #time is sampled till the next event from Poisson process with the rate w\n",
    "    if np.random.binomial(1, k*mu/w): #we use the binomial distribution with n = 1 to have a bernouli distribution\n",
    "        i = random.randint(0, k-1)\n",
    "        place = random.random()\n",
    "        mut.append([i, place, t]) # индивидуум, позиция, время\n",
    "        mut1 = np.asarray(mut)\n",
    "        #plt.scatter(mut1[nm][0], mut1[nm][2], color = 'r')\n",
    "        nm += 1\n",
    "    else:\n",
    "        i, j = np.random.choice(k, 2, replace=False) # между кем коалесценция\n",
    "        if i != j:\n",
    "            T.append([i, j, t]) # добавляем в список эту инфу\n",
    "        T1 = np.asarray(T) # превращаем в массив\n",
    "        nc += 1\n",
    "    \n",
    "    k -= 1 # уменьшаем K\n",
    "\n",
    "print(\"Number of coal.: \", nc)\n",
    "print(\"coalescent between i and j at the moment t:\")\n",
    "print(np.asarray(T))\n",
    "print('\\n')\n",
    "print(\"Number of mut.: \", nm)\n",
    "print(\"mutation in the individue i in the place p at the moment t:\")\n",
    "print(np.array(mut))"
   ]
  },
  {
   "cell_type": "code",
   "execution_count": null,
   "metadata": {},
   "outputs": [],
   "source": []
  },
  {
   "cell_type": "code",
   "execution_count": null,
   "metadata": {},
   "outputs": [],
   "source": []
  },
  {
   "cell_type": "code",
   "execution_count": null,
   "metadata": {},
   "outputs": [],
   "source": []
  },
  {
   "cell_type": "code",
   "execution_count": null,
   "metadata": {},
   "outputs": [],
   "source": []
  },
  {
   "cell_type": "code",
   "execution_count": null,
   "metadata": {},
   "outputs": [],
   "source": []
  },
  {
   "cell_type": "code",
   "execution_count": null,
   "metadata": {},
   "outputs": [],
   "source": []
  },
  {
   "cell_type": "code",
   "execution_count": null,
   "metadata": {},
   "outputs": [],
   "source": []
  },
  {
   "cell_type": "markdown",
   "metadata": {},
   "source": [
    "## Useful links\n",
    "\n",
    "https://en.wikipedia.org/wiki/Inverse_transform_sampling"
   ]
  },
  {
   "cell_type": "code",
   "execution_count": 8,
   "metadata": {},
   "outputs": [
    {
     "data": {
      "text/plain": [
       "'\\nfunc name\\nInput: ...\\nOutput: ...\\n'"
      ]
     },
     "execution_count": 8,
     "metadata": {},
     "output_type": "execute_result"
    }
   ],
   "source": [
    "'''\n",
    "func name\n",
    "Input: ...\n",
    "Output: ...\n",
    "'''"
   ]
  },
  {
   "cell_type": "code",
   "execution_count": null,
   "metadata": {},
   "outputs": [],
   "source": []
  },
  {
   "cell_type": "code",
   "execution_count": null,
   "metadata": {},
   "outputs": [],
   "source": []
  }
 ],
 "metadata": {
  "kernelspec": {
   "display_name": "Python 3",
   "language": "python",
   "name": "python3"
  },
  "language_info": {
   "codemirror_mode": {
    "name": "ipython",
    "version": 3
   },
   "file_extension": ".py",
   "mimetype": "text/x-python",
   "name": "python",
   "nbconvert_exporter": "python",
   "pygments_lexer": "ipython3",
   "version": "3.7.1"
  }
 },
 "nbformat": 4,
 "nbformat_minor": 2
}
