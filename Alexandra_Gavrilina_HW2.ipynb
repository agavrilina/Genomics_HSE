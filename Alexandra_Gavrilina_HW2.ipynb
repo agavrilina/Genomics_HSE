{
 "cells": [
  {
   "cell_type": "markdown",
   "metadata": {},
   "source": [
    "# Alexandra Gavrilina\n",
    "\n",
    "# HOMEWORK 2: COALESCENT WITH MUTATION"
   ]
  },
  {
   "cell_type": "code",
   "execution_count": 1,
   "metadata": {},
   "outputs": [],
   "source": [
    "import numpy as np\n",
    "import random\n",
    "import math\n",
    "import scipy\n",
    "from scipy import special\n",
    "import matplotlib.pyplot as plt\n",
    "%matplotlib inline"
   ]
  },
  {
   "cell_type": "markdown",
   "metadata": {},
   "source": [
    "## 1. Basics\n",
    "\n",
    "Chromosome is an interval $[0, 1]$.\n",
    "\n",
    "Individual (or individual’s genome) is a set of $M$ chromosomes, numbered from $0$ to $M − 1$.\n",
    "\n",
    "Chromosomes with the same id (from different individuals) are related by a single tree genealogy (no recombination).\n",
    "\n",
    "Genealogies for chromosomes with different ids are simulated independently from each other."
   ]
  },
  {
   "cell_type": "markdown",
   "metadata": {},
   "source": [
    "## 2. Coalescence with mutation\n",
    "Let there be $K$ lineages. Mutation rate is $\\mu$, effective population size over time is $ν(t)$. Assume that $ν(t)$ is piecewise constant function.\n",
    "\n",
    "Coalescence with mutation is a Poisson process with the (variable) rate\n",
    "\n",
    "$$\\omega(K, t) = K \\mu + \\dfrac{1}{v(t)} \\begin{pmatrix} K \\\\ 2 \\end{pmatrix}.$$\n",
    "\n",
    "Simulation scheme.\n",
    "\n",
    "(1) Set $t = 0$, initialise $K$.\n",
    "\n",
    "(2) Sample time $T$ till the next event from Poisson process with the rate $\\omega (K, t)$. Set $t = t + T$.\n",
    "\n",
    "(3) Generate type of the event following Bernoulli distribution with weights proportional to Kµ (mutation) and $\\dfrac{1}{v(t)} \\begin{pmatrix} K \\\\ 2 \\end{pmatrix}$ (coalescence).\n",
    "\n",
    "* Mutation: sample ancestral lineages $l$ where mutation occurs independently from $K$ available lineages. Sample mutation position $p$ on a genome uniformly on $[0, 1]$. All individuals which are decedents of $l$ get variant $1$ at position $p$. All other individuals have variant $0$ at position $p$.\n",
    "\n",
    "* Coalescence. Choose uniformly a random pair of lineages $l_1$ and $l_2$. These two lineages coalesce at time $t$. Update genealogy. Set $K = K − 1$.\n",
    "\n",
    "(4) stop if $K = 1$. Otherwise go to step 2."
   ]
  },
  {
   "cell_type": "code",
   "execution_count": 2,
   "metadata": {},
   "outputs": [],
   "source": [
    "'''\n",
    "M: number of chromosomes\n",
    "K: lineages\n",
    "mu: mutation rate\n",
    "'''\n",
    "M = 1000\n",
    "K = 10\n",
    "mu = 2"
   ]
  },
  {
   "cell_type": "code",
   "execution_count": 3,
   "metadata": {},
   "outputs": [],
   "source": [
    "'''\n",
    "T: time periods\n",
    "N: population sizes\n",
    "'''\n",
    "T = np.array([0, .04, .01, .07], dtype=float)\n",
    "N = np.array([2, 5, 10, 6], dtype=int)"
   ]
  },
  {
   "cell_type": "code",
   "execution_count": 4,
   "metadata": {},
   "outputs": [],
   "source": [
    "'''\n",
    "Population size at time t\n",
    "Input: time t\n",
    "Output: v(t)\n",
    "'''\n",
    "def v(t):\n",
    "    return np.piecewise(t, (t < 100, t >= 100), (1, 2))"
   ]
  },
  {
   "cell_type": "code",
   "execution_count": 5,
   "metadata": {},
   "outputs": [],
   "source": [
    "'''\n",
    "Poisson process rate\n",
    "Input: K, mu, v(t)\n",
    "Output: w(K, mu)\n",
    "'''\n",
    "def rate(K, mu, v):\n",
    "    return K*mu + (1/v)*scipy.special.binom(K, 2)"
   ]
  },
  {
   "cell_type": "code",
   "execution_count": 6,
   "metadata": {},
   "outputs": [],
   "source": [
    "'''\n",
    "Coalescence and mutation\n",
    "Input: K, mu, T, N\n",
    "Output: coalescent (pair of lineages, time), mutation (positionm time), nc (coalescence number), nm ()\n",
    "'''\n",
    "def coal_mut(K, mu, T, N):\n",
    "    t = 0\n",
    "    coalescent = [] # list for coalescence\n",
    "    mutation = [] # list for mutations\n",
    "    nm = 0 # number of mutations\n",
    "    nc = 0 # coalescence number\n",
    "    w = rate(mu, K, v(t)) # rate of Poisson process\n",
    "    while K != 1:\n",
    "        t += np.random.exponential(1 / w) # from Poisson process\n",
    "        if np.random.binomial(1, K*mu/w): # binomial distribution\n",
    "            i = random.randint(0, K-1)\n",
    "            p = random.random()\n",
    "            mutation.append([t, i, p]) # time, id, position    \n",
    "            nm += 1\n",
    "        else:\n",
    "            i = random.randint(0, K - 1)\n",
    "            j = random.randint(0, K - 1)\n",
    "            coalescent.append([t, min(i, j), max(i, j)]) # time, pair i-j\n",
    "            nc += 1\n",
    "        K -= 1 # decrease K: K = K - 1\n",
    "    return coalescent, mutation, nc, nm"
   ]
  },
  {
   "cell_type": "code",
   "execution_count": 7,
   "metadata": {},
   "outputs": [
    {
     "name": "stdout",
     "output_type": "stream",
     "text": [
      "Сoalescence number:  4\n",
      "Coalescent: time t, i and j\n",
      "[[0.18582178 1.         4.        ]\n",
      " [0.32000425 0.         3.        ]\n",
      " [0.32826334 0.         3.        ]\n",
      " [0.34203032 1.         2.        ]]\n",
      "Number of mutations:  5\n",
      "Mutation: time t, i, position p:\n",
      "[[0.0494092  2.         0.56920387]\n",
      " [0.19817279 1.         0.49543509]\n",
      " [0.20068388 3.         0.47224524]\n",
      " [0.30639009 3.         0.78872335]\n",
      " [0.36207458 0.         0.69583287]]\n"
     ]
    }
   ],
   "source": [
    "random.seed(1)\n",
    "\n",
    "coal, mut, nc, nm = coal_mut(K, mu, T, N)\n",
    "\n",
    "print(\"Сoalescence number: \", nc)\n",
    "print(\"Coalescent: time t, i and j\")\n",
    "print(np.asarray(coal))\n",
    "\n",
    "print(\"Number of mutations: \", nm)\n",
    "print(\"Mutation: time t, i, position p:\")\n",
    "print(np.array(mut))"
   ]
  },
  {
   "cell_type": "code",
   "execution_count": null,
   "metadata": {},
   "outputs": [],
   "source": []
  }
 ],
 "metadata": {
  "kernelspec": {
   "display_name": "Python 3",
   "language": "python",
   "name": "python3"
  },
  "language_info": {
   "codemirror_mode": {
    "name": "ipython",
    "version": 3
   },
   "file_extension": ".py",
   "mimetype": "text/x-python",
   "name": "python",
   "nbconvert_exporter": "python",
   "pygments_lexer": "ipython3",
   "version": "3.7.1"
  }
 },
 "nbformat": 4,
 "nbformat_minor": 2
}
