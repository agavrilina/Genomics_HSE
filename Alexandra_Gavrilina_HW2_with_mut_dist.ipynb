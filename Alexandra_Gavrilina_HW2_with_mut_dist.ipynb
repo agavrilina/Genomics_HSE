{
 "cells": [
  {
   "cell_type": "markdown",
   "metadata": {},
   "source": [
    "# Alexandra Gavrilina\n",
    "\n",
    "# HOMEWORK 2: COALESCENT WITH MUTATION"
   ]
  },
  {
   "cell_type": "code",
   "execution_count": 1,
   "metadata": {},
   "outputs": [],
   "source": [
    "import numpy as np\n",
    "import random\n",
    "import math\n",
    "import scipy\n",
    "from scipy import special\n",
    "import matplotlib.pyplot as plt\n",
    "%matplotlib inline"
   ]
  },
  {
   "cell_type": "markdown",
   "metadata": {},
   "source": [
    "## 1. Basics\n",
    "\n",
    "Chromosome is an interval $[0, 1]$.\n",
    "\n",
    "Individual (or individual’s genome) is a set of $M$ chromosomes, numbered from $0$ to $M − 1$.\n",
    "\n",
    "Chromosomes with the same id (from different individuals) are related by a single tree genealogy (no recombination).\n",
    "\n",
    "Genealogies for chromosomes with different ids are simulated independently from each other."
   ]
  },
  {
   "cell_type": "markdown",
   "metadata": {},
   "source": [
    "## 2. Coalescence with mutation\n",
    "Let there be $K$ lineages. Mutation rate is $\\mu$, effective population size over time is $ν(t)$. Assume that $ν(t)$ is piecewise constant function.\n",
    "\n",
    "Coalescence with mutation is a Poisson process with the (variable) rate\n",
    "\n",
    "$$\\omega(K, t) = K \\mu + \\dfrac{1}{v(t)} \\begin{pmatrix} K \\\\ 2 \\end{pmatrix}.$$\n",
    "\n",
    "Simulation scheme.\n",
    "\n",
    "(1) Set $t = 0$, initialise $K$.\n",
    "\n",
    "(2) Sample time $T$ till the next event from Poisson process with the rate $\\omega (K, t)$. Set $t = t + T$.\n",
    "\n",
    "(3) Generate type of the event following Bernoulli distribution with weights proportional to Kµ (mutation) and $\\dfrac{1}{v(t)} \\begin{pmatrix} K \\\\ 2 \\end{pmatrix}$ (coalescence).\n",
    "\n",
    "* Mutation: sample ancestral lineages $l$ where mutation occurs independently from $K$ available lineages. Sample mutation position $p$ on a genome uniformly on $[0, 1]$. All individuals which are decedents of $l$ get variant $1$ at position $p$. All other individuals have variant $0$ at position $p$.\n",
    "\n",
    "* Coalescence. Choose uniformly a random pair of lineages $l_1$ and $l_2$. These two lineages coalesce at time $t$. Update genealogy. Set $K = K − 1$.\n",
    "\n",
    "(4) stop if $K = 1$. Otherwise go to step 2."
   ]
  },
  {
   "cell_type": "code",
   "execution_count": 2,
   "metadata": {},
   "outputs": [],
   "source": [
    "'''\n",
    "M: number of chromosomes\n",
    "K: lineages\n",
    "mu: mutation rate\n",
    "'''\n",
    "M = 100\n",
    "K = 3\n",
    "mu = 10000"
   ]
  },
  {
   "cell_type": "code",
   "execution_count": 3,
   "metadata": {},
   "outputs": [],
   "source": [
    "'''\n",
    "T: time periods\n",
    "N: population sizes\n",
    "'''\n",
    "T = np.array([0, .015, .05, .1], dtype=float)\n",
    "N = np.array([1, 5, 7, 10], dtype=int)"
   ]
  },
  {
   "cell_type": "code",
   "execution_count": 4,
   "metadata": {},
   "outputs": [],
   "source": [
    "'''\n",
    "Population size at time t\n",
    "Input: time t\n",
    "Output: piecewise fuction v(t)\n",
    "'''\n",
    "def v(t):\n",
    "    return np.piecewise(t, (t < 10, 10 >= t >= 20, t >= 20), (1, 2, 3))"
   ]
  },
  {
   "cell_type": "code",
   "execution_count": 5,
   "metadata": {},
   "outputs": [],
   "source": [
    "'''\n",
    "Poisson process rate\n",
    "Input: K, mu, v(t)\n",
    "Output: w(K, mu)\n",
    "'''\n",
    "def rate(K, t):\n",
    "    return K*mu + (1/v(t))*scipy.special.binom(K, 2)"
   ]
  },
  {
   "cell_type": "code",
   "execution_count": 6,
   "metadata": {},
   "outputs": [],
   "source": [
    "'''\n",
    "Add chromosome function (addition of a chromosome to an individual and its descendants)\n",
    "Input: lineage, p (position), mutated (1 or 0)\n",
    "'''\n",
    "def add_chromosome(lineage, p, mutated):\n",
    "    lineage[0][1][p] = mutated # zero element of the list is a nested list; the first element is a dictionary\n",
    "    for i in range(1, len(lineage)): # if the lineage list contains a descendant or two, repeat\n",
    "        add_chromosome(lineage[i], p, mutated)"
   ]
  },
  {
   "cell_type": "code",
   "execution_count": 7,
   "metadata": {},
   "outputs": [],
   "source": [
    "'''\n",
    "Coalescence and mutation\n",
    "Input: K, mu, T, N\n",
    "Output: tree\n",
    "'''\n",
    "def coal_mut(K, mu, T, N):\n",
    "    '''\n",
    "    i: individual, {}: chromosomes, 0.0: coalescence time, 0: number of mutations\n",
    "    '''\n",
    "    descendants = list([[i, {}, 0.0, 0]] for i in range(K)) # tree base\n",
    "\n",
    "    t = 0\n",
    "    \n",
    "    while K != 1:\n",
    "        W = rate(K, t) # Poisson process rate\n",
    "        t += np.random.exponential(1 / W) # from Poisson process\n",
    "        \n",
    "        if np.random.binomial(1, K*mu / W): # binomial distribution\n",
    "            l = np.random.randint(0, K) # randomly select one descendant who is susceptible to mutation\n",
    "            p = np.random.random() # randomly select a chromosome that is susceptible to mutation\n",
    "            descendants[l][0][3] += 1 # mutation counter\n",
    "            # we pass this mutation to all descendants of the individual\n",
    "            add_chromosome(descendants[l], p , 1)\n",
    "            # the remaining branches get zero\n",
    "            for i in range(l):\n",
    "                add_chromosome(descendants[i], p, 0)\n",
    "            for i in range(l + 1, K):\n",
    "                add_chromosome(descendants[i], p, 0)\n",
    "        else:\n",
    "            l1, l2 = np.random.choice(K, 2, replace=False) # pair of lineages\n",
    "            K -= 1 # decrease K: K = K - 1\n",
    "            ancestors = list([[i, {}, t, 0]] for i in range(K))\n",
    "            for i in range(min(l1, l2)):\n",
    "                ancestors[i].append(descendants[i])\n",
    "            descendants[min(l1, l2) + 1], descendants[max(l1, l2)] = descendants[max(l1, l2)], descendants[min(l1, l2) + 1]\n",
    "            ancestors[min(l1, l2)].append(descendants[min(l1, l2)])\n",
    "            ancestors[min(l1, l2)].append(descendants[min(l1, l2) + 1])\n",
    "            for i in range(min(l1, l2) + 1, K):\n",
    "                ancestors[i].append(descendants[i + 1])\n",
    "            descendants = ancestors\n",
    "            \n",
    "    return descendants # tree"
   ]
  },
  {
   "cell_type": "code",
   "execution_count": 8,
   "metadata": {},
   "outputs": [],
   "source": [
    "tree = coal_mut(K, mu, T, N)"
   ]
  },
  {
   "cell_type": "markdown",
   "metadata": {},
   "source": [
    "### Distribution of mutations"
   ]
  },
  {
   "cell_type": "markdown",
   "metadata": {},
   "source": [
    "#### Edge length"
   ]
  },
  {
   "cell_type": "code",
   "execution_count": 9,
   "metadata": {},
   "outputs": [],
   "source": [
    "len1 = abs(tree[0][1][1][0][2] - tree[0][1][0][2])\n",
    "len2 = abs(tree[0][0][2] - tree[0][1][0][2])"
   ]
  },
  {
   "cell_type": "code",
   "execution_count": 10,
   "metadata": {},
   "outputs": [
    {
     "data": {
      "text/plain": [
       "(0.5366930441840959, 2.8590042457229354)"
      ]
     },
     "execution_count": 10,
     "metadata": {},
     "output_type": "execute_result"
    }
   ],
   "source": [
    "len1, len2"
   ]
  },
  {
   "cell_type": "markdown",
   "metadata": {},
   "source": [
    "#### Number of mutations"
   ]
  },
  {
   "cell_type": "code",
   "execution_count": 11,
   "metadata": {},
   "outputs": [],
   "source": [
    "mut1 = tree[0][1][1][0][3] # on edge 1\n",
    "mut2 = tree[0][1][0][3] # on edge 2"
   ]
  },
  {
   "cell_type": "code",
   "execution_count": 12,
   "metadata": {},
   "outputs": [
    {
     "data": {
      "text/plain": [
       "(5437, 28804)"
      ]
     },
     "execution_count": 12,
     "metadata": {},
     "output_type": "execute_result"
    }
   ],
   "source": [
    "mut1, mut2"
   ]
  },
  {
   "cell_type": "markdown",
   "metadata": {},
   "source": [
    "$l_1  / N_{mut1}$"
   ]
  },
  {
   "cell_type": "code",
   "execution_count": 13,
   "metadata": {},
   "outputs": [
    {
     "data": {
      "text/plain": [
       "9.871124594152951e-05"
      ]
     },
     "execution_count": 13,
     "metadata": {},
     "output_type": "execute_result"
    }
   ],
   "source": [
    "len1 / mut1"
   ]
  },
  {
   "cell_type": "markdown",
   "metadata": {},
   "source": [
    "$l_2 / N_{mut2}$"
   ]
  },
  {
   "cell_type": "code",
   "execution_count": 14,
   "metadata": {},
   "outputs": [
    {
     "data": {
      "text/plain": [
       "9.925719503273627e-05"
      ]
     },
     "execution_count": 14,
     "metadata": {},
     "output_type": "execute_result"
    }
   ],
   "source": [
    "len2 / mut2"
   ]
  },
  {
   "cell_type": "markdown",
   "metadata": {},
   "source": [
    "$ l_1  / N_{mut1} - l_2 / N_{mut2}$"
   ]
  },
  {
   "cell_type": "code",
   "execution_count": 15,
   "metadata": {},
   "outputs": [
    {
     "data": {
      "text/plain": [
       "5.459490912067646e-07"
      ]
     },
     "execution_count": 15,
     "metadata": {},
     "output_type": "execute_result"
    }
   ],
   "source": [
    "abs(len1 / mut1 - len2 / mut2)"
   ]
  }
 ],
 "metadata": {
  "kernelspec": {
   "display_name": "Python 3",
   "language": "python",
   "name": "python3"
  },
  "language_info": {
   "codemirror_mode": {
    "name": "ipython",
    "version": 3
   },
   "file_extension": ".py",
   "mimetype": "text/x-python",
   "name": "python",
   "nbconvert_exporter": "python",
   "pygments_lexer": "ipython3",
   "version": "3.7.1"
  }
 },
 "nbformat": 4,
 "nbformat_minor": 2
}
